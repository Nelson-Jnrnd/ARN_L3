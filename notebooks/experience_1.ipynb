{
 "cells": [
  {
   "cell_type": "markdown",
   "source": [
    "## Loading the packages"
   ],
   "metadata": {
    "collapsed": false
   }
  },
  {
   "cell_type": "code",
   "execution_count": 1,
   "metadata": {
    "collapsed": true
   },
   "outputs": [],
   "source": [
    "import numpy as np\n",
    "import matplotlib.pyplot as pl\n",
    "import sys\n",
    "\n",
    "import pandas as pd\n",
    "from ipywidgets import interact, widgets\n",
    "import os\n",
    "\n",
    "%matplotlib inline"
   ]
  },
  {
   "cell_type": "code",
   "execution_count": 2,
   "outputs": [],
   "source": [
    "PATH = '../vowels'\n",
    "\n",
    "from python_speech_features import mfcc\n",
    "import scipy.io.wavfile as wav\n",
    "\n",
    "import glob\n",
    "nam_paths = glob.glob(os.path.join(PATH, 'nam*.wav'))\n",
    "naf_paths = glob.glob(os.path.join(PATH, 'naf*.wav'))\n",
    "nk_paths = glob.glob(os.path.join(PATH, 'nk*.wav'))"
   ],
   "metadata": {
    "collapsed": false,
    "pycharm": {
     "name": "#%%\n"
    }
   }
  },
  {
   "cell_type": "markdown",
   "source": [
    "# Imports Dataset"
   ],
   "metadata": {
    "collapsed": false
   }
  },
  {
   "cell_type": "code",
   "execution_count": 3,
   "outputs": [],
   "source": [
    "# Here we read the wave files and store their content in lists\n",
    "naf_audios = [wav.read(path) for path in naf_paths]\n",
    "nam_audios = [wav.read(path) for path in nam_paths]"
   ],
   "metadata": {
    "collapsed": false,
    "pycharm": {
     "name": "#%%\n"
    }
   }
  },
  {
   "cell_type": "code",
   "execution_count": null,
   "outputs": [],
   "source": [
    "nam_audios"
   ],
   "metadata": {
    "collapsed": false,
    "pycharm": {
     "name": "#%%\n"
    }
   }
  },
  {
   "cell_type": "markdown",
   "source": [
    "# Analyse DATA"
   ],
   "metadata": {
    "collapsed": false
   }
  },
  {
   "cell_type": "markdown",
   "source": [],
   "metadata": {
    "collapsed": false
   }
  },
  {
   "cell_type": "code",
   "execution_count": 4,
   "outputs": [
    {
     "data": {
      "text/plain": "<Figure size 1080x288 with 2 Axes>",
      "image/png": "[encoded data removed]"
     },
     "metadata": {
      "needs_background": "light"
     },
     "output_type": "display_data"
    }
   ],
   "source": [
    "naf_mfcc_median = np.array([np.median(mfcc(naf[1], naf[0], nfft=1024), axis=0) for naf in naf_audios])# ...\n",
    "nam_mfcc_median = np.array([np.median(mfcc(nam[1], nam[0], nfft=1024), axis=0) for nam in nam_audios])# ...\n",
    "\n",
    "\n",
    "f, (ax1, ax2) = pl.subplots(1,2, sharey='all', figsize=(15,4))\n",
    "ax1.plot()\n",
    "ax1.boxplot(naf_mfcc_median)\n",
    "ax1.set_title('Natural Female')\n",
    "ax1.grid()\n",
    "ax2.boxplot(nam_mfcc_median)\n",
    "ax2.set_title('Natural Male')\n",
    "ax2.grid()"
   ],
   "metadata": {
    "collapsed": false,
    "pycharm": {
     "name": "#%%\n"
    }
   }
  },
  {
   "cell_type": "markdown",
   "source": [
    "On a trouvé que les paires de MFCC (8,9), (8,4), (9,4) pourraient être utiles pour la prédiction. Mais pour cette expérience, on peut simplement utiliser l'ensemble complet des MFCC."
   ],
   "metadata": {
    "collapsed": false
   }
  },
  {
   "cell_type": "markdown",
   "source": [
    "# MLP"
   ],
   "metadata": {
    "collapsed": false
   }
  },
  {
   "cell_type": "markdown",
   "source": [
    "## Exploring the number of epochs and hyper parameters"
   ],
   "metadata": {
    "collapsed": false
   }
  },
  {
   "cell_type": "code",
   "execution_count": 5,
   "outputs": [],
   "source": [
    "import mlp_backprop_momentum as mlp\n",
    "import k_fold_cross_validation as cv\n",
    "\n",
    "mfccs = np.concatenate((\n",
    "    nam_mfcc_median,\n",
    "    naf_mfcc_median\n",
    "))\n",
    "\n",
    "# We use -1 and 1 for classes because we use the tanh function\n",
    "classes = np.concatenate(\n",
    "    (\n",
    "        np.repeat(-1, len(nam_mfcc_median)),\n",
    "        np.repeat(1, len(naf_mfcc_median))\n",
    "    )\n",
    ")\n",
    "# Using pandas for format\n",
    "df_mfcc = pd.DataFrame(data=mfccs)\n",
    "\n",
    "df_mfcc['class'] = classes.tolist()\n",
    "# Hyper parameters...\n",
    "N_INITS = 10\n",
    "EPOCHS = 200\n",
    "N_NEURONS = [2, 4, 8, 16, 32]\n",
    "LEARNING_RATE = 0.001\n",
    "MOMENTUM = 0.5"
   ],
   "metadata": {
    "collapsed": false,
    "pycharm": {
     "name": "#%%\n"
    }
   }
  },
  {
   "cell_type": "code",
   "execution_count": null,
   "outputs": [],
   "source": [
    "MSE = np.zeros((len(N_NEURONS), N_INITS, EPOCHS))\n",
    "\n",
    "for i_h, h in enumerate(N_NEURONS):                                     # looping over the number of hidden neurons\n",
    "    print('Testing', h, 'neurons...')\n",
    "    nn = mlp.MLP([13,h,1], 'tanh')\n",
    "    for i in np.arange(N_INITS):                                        # looping over the initializations\n",
    "        nn.init_weights()\n",
    "\n",
    "        MSE[i_h, i, :] = nn.fit((df_mfcc.loc[:, df_mfcc.columns != 'class'], df_mfcc['class']),\n",
    "                                learning_rate=LEARNING_RATE,\n",
    "                                momentum=MOMENTUM,\n",
    "                                epochs=EPOCHS)"
   ],
   "metadata": {
    "collapsed": false,
    "pycharm": {
     "name": "#%%\n"
    }
   }
  },
  {
   "cell_type": "code",
   "execution_count": null,
   "outputs": [],
   "source": [
    "pl.figure(figsize=(15,4))\n",
    "p_count = 0\n",
    "for n in np.arange(MSE.shape[0]):\n",
    "    pl.subplot(1, MSE.shape[0], n+1)\n",
    "    for i in np.arange(MSE.shape[1]):\n",
    "        pl.plot(MSE[n,i,:], c='b')\n",
    "    pl.ylim(0,1)\n",
    "    pl.xlabel('Epochs')\n",
    "    pl.ylabel('MSE')\n",
    "    pl.title(str(N_NEURONS[n]) + ' neurons')\n",
    "    pl.grid()\n",
    "pl.tight_layout()"
   ],
   "metadata": {
    "collapsed": false,
    "pycharm": {
     "name": "#%%\n"
    }
   }
  },
  {
   "cell_type": "markdown",
   "source": [
    "On peut voir que l'erreur ne diminue pas de manière significative après ~100 Epochs.\n",
    "Un learning rate de 0.001 et un momentum de 0.5 donne des résultats qui semblent acceptables\n",
    "\n",
    "## Exploring the number of hidden neurons\n",
    "Knowing that there are no significant improvements after 50 iterations, we can now further explore how the complexity of the model (number of hidden neurons) is linked to the generalization performance (test error). The following snippet allows you to explore both the number of epochs and the number of hidden neurons without restarting the training.\n"
   ],
   "metadata": {
    "collapsed": false
   }
  },
  {
   "cell_type": "code",
   "execution_count": 6,
   "outputs": [],
   "source": [
    "EPOCHS = 150\n",
    "K = 5\n",
    "N_TESTS = 10\n",
    "N_NEURONS = [2, 4, 6, 8, 10, 15, 20, 25, 30]"
   ],
   "metadata": {
    "collapsed": false,
    "pycharm": {
     "name": "#%%\n"
    }
   }
  },
  {
   "cell_type": "code",
   "execution_count": null,
   "outputs": [],
   "source": [
    "MSE_train = np.zeros((len(N_NEURONS), EPOCHS, N_TESTS))\n",
    "MSE_test = np.zeros((len(N_NEURONS), EPOCHS, N_TESTS))\n",
    "\n",
    "for i_h, h in enumerate(N_NEURONS):                                     # looping the number of hidden neurons\n",
    "    print('Testing', h, 'neurons...')\n",
    "    nn = mlp.MLP([13,h,1], 'tanh')\n",
    "    for i in np.arange(N_TESTS):                                        # looping the tests\n",
    "        nn.init_weights()                                               # the network has to be reinitialized before each test\n",
    "        temp1, temp2 = cv.k_fold_cross_validation_per_epoch(nn,         # notice that we do not use cv.k_fold_cross_validation\n",
    "                                                            df_mfcc.to_numpy(),    # but cv.k_fold_cross_validation_per_epoch which\n",
    "                                                            k=K,        # returns a value of error per each epoch\n",
    "                                                            learning_rate=LEARNING_RATE,\n",
    "                                                            momentum=MOMENTUM,\n",
    "                                                            epochs=EPOCHS)\n",
    "        # temp1 and temp2 are the training and test error. One value per epoch\n",
    "        MSE_train[i_h, :, i] = temp1\n",
    "        MSE_test[i_h, :, i] = temp2"
   ],
   "metadata": {
    "collapsed": false,
    "pycharm": {
     "name": "#%%\n"
    }
   }
  },
  {
   "cell_type": "code",
   "execution_count": null,
   "outputs": [],
   "source": [
    "MSE_train_mean = np.mean(MSE_train, axis=2)\n",
    "MSE_test_mean = np.mean(MSE_test, axis=2)\n",
    "MSE_train_sd = np.std(MSE_train, axis=2)\n",
    "MSE_test_sd = np.std(MSE_test, axis=2)\n",
    "\n",
    "v_min = min(np.min(MSE_train_mean), np.min(MSE_test_mean))\n",
    "v_max = max(np.max(MSE_train_mean), np.max(MSE_test_mean))\n",
    "\n",
    "n_rows = int(np.ceil(len(N_NEURONS)/3.0))\n",
    "pl.figure(figsize=(12,3*n_rows))\n",
    "for i_n, n in enumerate(N_NEURONS):\n",
    "    pl.subplot(n_rows, min(3, len(N_NEURONS)), i_n+1)\n",
    "    pl.fill_between(np.arange(EPOCHS), MSE_train_mean[i_n,:], MSE_train_mean[i_n,:]+MSE_train_sd[i_n,:], facecolor='blue', alpha=0.5, label='Train')\n",
    "    pl.fill_between(np.arange(EPOCHS), MSE_train_mean[i_n,:], MSE_train_mean[i_n,:]-MSE_train_sd[i_n,:], facecolor='blue', alpha=0.5)\n",
    "    pl.fill_between(np.arange(EPOCHS), MSE_test_mean[i_n,:], MSE_test_mean[i_n,:]+MSE_test_sd[i_n,:], facecolor='red', alpha=0.5, label='Test')\n",
    "    pl.fill_between(np.arange(EPOCHS), MSE_test_mean[i_n,:], MSE_test_mean[i_n,:]-MSE_test_sd[i_n,:], facecolor='red', alpha=0.5)\n",
    "    pl.ylim(0.95*v_min,0.5*v_max)\n",
    "    pl.ylabel('MSE')\n",
    "    pl.xlabel('Number of epochs')\n",
    "    pl.title(str(K)+'-fold CV with '+str(n)+' hidden neurons')\n",
    "    pl.legend()\n",
    "    pl.grid()\n",
    "pl.tight_layout()"
   ],
   "metadata": {
    "collapsed": false,
    "pycharm": {
     "name": "#%%\n"
    }
   }
  },
  {
   "cell_type": "code",
   "execution_count": null,
   "outputs": [],
   "source": [
    "pl.figure(figsize=(15,8))\n",
    "pl.subplot(2,1,1)\n",
    "pl.imshow(MSE_train_mean, vmin=np.min(MSE_train_mean), vmax=np.percentile(MSE_train_mean, 90), aspect=3, interpolation='nearest')\n",
    "pl.yticks(np.arange(len(N_NEURONS)), N_NEURONS)\n",
    "pl.xlabel('Epochs')\n",
    "pl.ylabel('Number of hidden Neurons')\n",
    "pl.title('Training')\n",
    "pl.colorbar()\n",
    "pl.subplot(2,1,2)\n",
    "pl.imshow(MSE_test_mean, vmin=np.min(MSE_test_mean), vmax=np.percentile(MSE_test_mean, 90), aspect=3, interpolation='nearest')\n",
    "pl.yticks(np.arange(len(N_NEURONS)), N_NEURONS)\n",
    "pl.xlabel('Epochs')\n",
    "pl.ylabel('Number of hidden Neurons')\n",
    "pl.title('Test')\n",
    "pl.colorbar()\n",
    "pl.tight_layout()"
   ],
   "metadata": {
    "collapsed": false,
    "pycharm": {
     "name": "#%%\n"
    }
   }
  },
  {
   "cell_type": "markdown",
   "source": [],
   "metadata": {
    "collapsed": false
   }
  },
  {
   "cell_type": "markdown",
   "source": [
    "Avec ces représentations nous pouvons voir qu'un nombre de neurones dans la couche cachée supérieur à 15 réduit les performances de notre modèle sur le set de test. A priori, cela signifie qu'il perd en capacité de généralisation.\n",
    "\n",
    "## Final model\n",
    "\n",
    "Notre modèle final aura donc 15 neurones, 0.001 de learning rate, un momentum de 0.5 et 80 epochs"
   ],
   "metadata": {
    "collapsed": false
   }
  },
  {
   "cell_type": "code",
   "execution_count": 7,
   "outputs": [],
   "source": [
    "nn = mlp.MLP([13,15,1], 'tanh')"
   ],
   "metadata": {
    "collapsed": false,
    "pycharm": {
     "name": "#%%\n"
    }
   }
  },
  {
   "cell_type": "code",
   "execution_count": 12,
   "outputs": [],
   "source": [
    "def k_fold_cross_validation_without_matrix(mlp, dataset, k=5, learning_rate=0.01, momentum=0.7, epochs=100, threshold=None):\n",
    "    MSE_train_mean = 0.0\n",
    "    MSE_test_mean = 0.0\n",
    "\n",
    "    parts = cv.split_dataset(dataset, k)\n",
    "    target_test = []\n",
    "    output_test = []\n",
    "\n",
    "    for k_i in np.arange(k):\n",
    "        mlp.init_weights()\n",
    "\n",
    "        training_parts = set(np.arange(k))\n",
    "        training_parts.remove(k_i)\n",
    "        dataset_train = np.concatenate([parts[i] for i in list(training_parts)])\n",
    "        dataset_test = parts[k_i]\n",
    "\n",
    "        input_data = dataset_train[:,0:mlp.n_inputs]\n",
    "        output_data = dataset_train[:,mlp.n_inputs:(mlp.n_inputs+mlp.n_outputs)]\n",
    "        input_data_test = dataset_test[:,0:mlp.n_inputs]\n",
    "        output_data_test = dataset_test[:,mlp.n_inputs:(mlp.n_inputs+mlp.n_outputs)]\n",
    "\n",
    "        mlp.fit((input_data, output_data),\n",
    "                learning_rate=learning_rate, momentum=momentum, epochs=epochs)\n",
    "        MSE_train, _ = mlp.compute_MSE((input_data, output_data))\n",
    "        MSE_train_mean += MSE_train\n",
    "\n",
    "        MSE_test, temp_out = mlp.compute_MSE((input_data_test, output_data_test))\n",
    "        MSE_test_mean += MSE_test\n",
    "        output_test.append(temp_out)\n",
    "        target_test.append(output_data_test)\n",
    "\n",
    "    target_test = np.concatenate(target_test, axis=0)\n",
    "    output_test = np.concatenate(output_test, axis=0)\n",
    "\n",
    "    if threshold is None:\n",
    "        return (MSE_train_mean / k, MSE_test_mean / k)\n",
    "    else:\n",
    "        return (MSE_train_mean / k, MSE_test_mean / k, target_test, output_test)"
   ],
   "metadata": {
    "collapsed": false,
    "pycharm": {
     "name": "#%%\n"
    }
   }
  },
  {
   "cell_type": "code",
   "execution_count": 45,
   "outputs": [
    {
     "name": "stdout",
     "output_type": "stream",
     "text": [
      ".........."
     ]
    }
   ],
   "source": [
    "N_SPLITS = 10\n",
    "\n",
    "MSE_train = np.zeros(N_SPLITS)\n",
    "MSE_test = np.zeros(N_SPLITS)\n",
    "\n",
    "targets = []\n",
    "outputs = []\n",
    "\n",
    "for d in np.arange(N_SPLITS):\n",
    "    sys.stdout.write('.')\n",
    "    temp1, temp2, target, output = k_fold_cross_validation_without_matrix(nn,\n",
    "                                                              df_mfcc.to_numpy(),\n",
    "                                                              k=K,\n",
    "                                                              learning_rate=LEARNING_RATE,\n",
    "                                                              momentum=MOMENTUM,\n",
    "                                                              epochs=80,\n",
    "                                                              threshold=0.0)\n",
    "    MSE_train[d] = temp1\n",
    "    MSE_test[d] = temp2\n",
    "    targets.append(target)\n",
    "    outputs.append(output)\n",
    "\n",
    "targets = np.concatenate(targets, axis=0)\n",
    "outputs = np.concatenate(outputs, axis=0)"
   ],
   "metadata": {
    "collapsed": false,
    "pycharm": {
     "name": "#%%\n"
    }
   }
  },
  {
   "cell_type": "code",
   "execution_count": 49,
   "outputs": [],
   "source": [
    "conf_mat = cv.compute_confusion_matrix(targets, outputs, 0.0)\n",
    "\n",
    "y_pred = [-1 if y[0] < 0.0 else 1 for y in outputs.tolist()]\n",
    "y_true = [-1 if y[0] < 0.0 else 1 for y in targets.tolist()]"
   ],
   "metadata": {
    "collapsed": false,
    "pycharm": {
     "name": "#%%\n"
    }
   }
  },
  {
   "cell_type": "code",
   "execution_count": 48,
   "outputs": [
    {
     "data": {
      "text/plain": "[float,\n float,\n float,\n float,\n float,\n float,\n float,\n float,\n float,\n float,\n float,\n float,\n float,\n float,\n float,\n float,\n float,\n float,\n float,\n float,\n float,\n float,\n float,\n float,\n float,\n float,\n float,\n float,\n float,\n float,\n float,\n float,\n float,\n float,\n float,\n float,\n float,\n float,\n float,\n float,\n float,\n float,\n float,\n float,\n float,\n float,\n float,\n float,\n float,\n float,\n float,\n float,\n float,\n float,\n float,\n float,\n float,\n float,\n float,\n float,\n float,\n float,\n float,\n float,\n float,\n float,\n float,\n float,\n float,\n float,\n float,\n float,\n float,\n float,\n float,\n float,\n float,\n float,\n float,\n float,\n float,\n float,\n float,\n float,\n float,\n float,\n float,\n float,\n float,\n float,\n float,\n float,\n float,\n float,\n float,\n float,\n float,\n float,\n float,\n float,\n float,\n float,\n float,\n float,\n float,\n float,\n float,\n float,\n float,\n float,\n float,\n float,\n float,\n float,\n float,\n float,\n float,\n float,\n float,\n float,\n float,\n float,\n float,\n float,\n float,\n float,\n float,\n float,\n float,\n float,\n float,\n float,\n float,\n float,\n float,\n float,\n float,\n float,\n float,\n float,\n float,\n float,\n float,\n float,\n float,\n float,\n float,\n float,\n float,\n float,\n float,\n float,\n float,\n float,\n float,\n float,\n float,\n float,\n float,\n float,\n float,\n float,\n float,\n float,\n float,\n float,\n float,\n float,\n float,\n float,\n float,\n float,\n float,\n float,\n float,\n float,\n float,\n float,\n float,\n float,\n float,\n float,\n float,\n float,\n float,\n float,\n float,\n float,\n float,\n float,\n float,\n float,\n float,\n float,\n float,\n float,\n float,\n float,\n float,\n float,\n float,\n float,\n float,\n float,\n float,\n float,\n float,\n float,\n float,\n float,\n float,\n float,\n float,\n float,\n float,\n float,\n float,\n float,\n float,\n float,\n float,\n float,\n float,\n float,\n float,\n float,\n float,\n float,\n float,\n float,\n float,\n float,\n float,\n float,\n float,\n float,\n float,\n float,\n float,\n float,\n float,\n float,\n float,\n float,\n float,\n float,\n float,\n float,\n float,\n float,\n float,\n float,\n float,\n float,\n float,\n float,\n float,\n float,\n float,\n float,\n float,\n float,\n float,\n float,\n float,\n float,\n float,\n float,\n float,\n float,\n float,\n float,\n float,\n float,\n float,\n float,\n float,\n float,\n float,\n float,\n float,\n float,\n float,\n float,\n float,\n float,\n float,\n float,\n float,\n float,\n float,\n float,\n float,\n float,\n float,\n float,\n float,\n float,\n float,\n float,\n float,\n float,\n float,\n float,\n float,\n float,\n float,\n float,\n float,\n float,\n float,\n float,\n float,\n float,\n float,\n float,\n float,\n float,\n float,\n float,\n float,\n float,\n float,\n float,\n float,\n float,\n float,\n float,\n float,\n float,\n float,\n float,\n float,\n float,\n float,\n float,\n float,\n float,\n float,\n float,\n float,\n float,\n float,\n float,\n float,\n float,\n float,\n float,\n float,\n float,\n float,\n float,\n float,\n float,\n float,\n float,\n float,\n float,\n float,\n float,\n float,\n float,\n float,\n float,\n float,\n float,\n float,\n float,\n float,\n float,\n float,\n float,\n float,\n float,\n float,\n float,\n float,\n float,\n float,\n float,\n float,\n float,\n float,\n float,\n float,\n float,\n float,\n float,\n float,\n float,\n float,\n float,\n float,\n float,\n float,\n float,\n float,\n float,\n float,\n float,\n float,\n float,\n float,\n float,\n float,\n float,\n float,\n float,\n float,\n float,\n float,\n float,\n float,\n float,\n float,\n float,\n float,\n float,\n float,\n float,\n float,\n float,\n float,\n float,\n float,\n float,\n float,\n float,\n float,\n float,\n float,\n float,\n float,\n float,\n float,\n float,\n float,\n float,\n float,\n float,\n float,\n float,\n float,\n float,\n float,\n float,\n float,\n float,\n float,\n float,\n float,\n float,\n float,\n float,\n float,\n float,\n float,\n float,\n float,\n float,\n float,\n float,\n float,\n float,\n float,\n float,\n float,\n float,\n float,\n float,\n float,\n float,\n float,\n float,\n float,\n float,\n float,\n float,\n float,\n float,\n float,\n float,\n float,\n float,\n float,\n float,\n float,\n float,\n float,\n float,\n float,\n float,\n float,\n float,\n float,\n float,\n float,\n float,\n float,\n float,\n float,\n float,\n float,\n float,\n float,\n float,\n float,\n float,\n float,\n float,\n float,\n float,\n float,\n float,\n float,\n float,\n float,\n float,\n float,\n float,\n float,\n float,\n float,\n float,\n float,\n float,\n float,\n float,\n float,\n float,\n float,\n float,\n float,\n float,\n float,\n float,\n float,\n float,\n float,\n float,\n float,\n float,\n float,\n float,\n float,\n float,\n float,\n float,\n float,\n float,\n float,\n float,\n float,\n float,\n float,\n float,\n float,\n float,\n float,\n float,\n float,\n float,\n float,\n float,\n float,\n float,\n float,\n float,\n float,\n float,\n float,\n float,\n float,\n float,\n float,\n float,\n float,\n float,\n float,\n float,\n float,\n float,\n float,\n float,\n float,\n float,\n float,\n float,\n float,\n float,\n float,\n float,\n float,\n float,\n float,\n float,\n float,\n float,\n float,\n float,\n float,\n float,\n float,\n float,\n float,\n float,\n float,\n float,\n float,\n float,\n float,\n float,\n float,\n float,\n float,\n float,\n float,\n float,\n float,\n float,\n float,\n float,\n float,\n float,\n float,\n float,\n float,\n float,\n float,\n float,\n float,\n float,\n float,\n float,\n float,\n float,\n float,\n float,\n float,\n float,\n float,\n float,\n float,\n float,\n float,\n float,\n float,\n float,\n float,\n float,\n float,\n float,\n float,\n float,\n float,\n float,\n float,\n float,\n float,\n float,\n float,\n float,\n float,\n float,\n float,\n float,\n float,\n float,\n float,\n float,\n float,\n float,\n float,\n float,\n float,\n float,\n float,\n float,\n float,\n float,\n float,\n float,\n float,\n float,\n float,\n float,\n float,\n float,\n float,\n float,\n float,\n float,\n float,\n float,\n float,\n float,\n float,\n float,\n float,\n float,\n float,\n float,\n float,\n float,\n float,\n float,\n float,\n float,\n float,\n float,\n float,\n float,\n float,\n float,\n float,\n float,\n float,\n float,\n float,\n float]"
     },
     "execution_count": 48,
     "metadata": {},
     "output_type": "execute_result"
    }
   ],
   "source": [],
   "metadata": {
    "collapsed": false,
    "pycharm": {
     "name": "#%%\n"
    }
   }
  },
  {
   "cell_type": "code",
   "execution_count": 50,
   "outputs": [
    {
     "name": "stdout",
     "output_type": "stream",
     "text": [
      "MSE training:  [0.00969101 0.01158236 0.01335902 0.01218801 0.01084943 0.01461603\n",
      " 0.01245587 0.01239983 0.01371381 0.01701425]\n",
      "MSE test:  [0.26195272 0.1971239  0.26632603 0.16265709 0.17243826 0.22001966\n",
      " 0.24405556 0.27585747 0.27208121 0.37380548]\n",
      "Confusion matrix:\n",
      "[[341.  19.]\n",
      " [ 38. 322.]]\n"
     ]
    }
   ],
   "source": [
    "print('MSE training: ', MSE_train)\n",
    "print('MSE test: ', MSE_test)\n",
    "print('Confusion matrix:')\n",
    "print(conf_mat)"
   ],
   "metadata": {
    "collapsed": false,
    "pycharm": {
     "name": "#%%\n"
    }
   }
  },
  {
   "cell_type": "markdown",
   "source": [
    "Calcul des performances..."
   ],
   "metadata": {
    "collapsed": false
   }
  },
  {
   "cell_type": "code",
   "execution_count": 56,
   "outputs": [
    {
     "name": "stdout",
     "output_type": "stream",
     "text": [
      "Accuracy:  0.9208333333333333\n",
      "F1-Score:  0.9228687415426252\n",
      "Recall 0.9472222222222222\n"
     ]
    }
   ],
   "source": [
    "import sklearn.metrics as metrics\n",
    "\n",
    "# Rows are the actual class and columns are the predicted class\n",
    "print(\"Accuracy: \", metrics.accuracy_score(y_true, y_pred))\n",
    "print(\"F1-Score: \", metrics.f1_score(y_true, y_pred))\n",
    "print(\"Recall\", metrics.recall_score(y_true, y_pred))"
   ],
   "metadata": {
    "collapsed": false,
    "pycharm": {
     "name": "#%%\n"
    }
   }
  }
 ],
 "metadata": {
  "kernelspec": {
   "display_name": "Python 3",
   "language": "python",
   "name": "python3"
  },
  "language_info": {
   "codemirror_mode": {
    "name": "ipython",
    "version": 2
   },
   "file_extension": ".py",
   "mimetype": "text/x-python",
   "name": "python",
   "nbconvert_exporter": "python",
   "pygments_lexer": "ipython2",
   "version": "2.7.6"
  }
 },
 "nbformat": 4,
 "nbformat_minor": 0
}