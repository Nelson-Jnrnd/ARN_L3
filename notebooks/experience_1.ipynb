{
 "cells": [
  {
   "cell_type": "markdown",
   "source": [
    "## Loading the packages"
   ],
   "metadata": {
    "collapsed": false
   }
  },
  {
   "cell_type": "code",
   "execution_count": 149,
   "metadata": {
    "collapsed": true
   },
   "outputs": [],
   "source": [
    "import numpy as np\n",
    "import matplotlib.pyplot as pl\n",
    "import sys\n",
    "\n",
    "import pandas as pd\n",
    "from ipywidgets import interact, widgets\n",
    "import os\n",
    "\n",
    "%matplotlib inline"
   ]
  },
  {
   "cell_type": "code",
   "execution_count": 150,
   "outputs": [],
   "source": [
    "PATH = '../vowels'\n",
    "\n",
    "from python_speech_features import mfcc\n",
    "import scipy.io.wavfile as wav\n",
    "\n",
    "import glob\n",
    "nam_paths = glob.glob(os.path.join(PATH, 'nam*.wav'))\n",
    "naf_paths = glob.glob(os.path.join(PATH, 'naf*.wav'))\n",
    "nk_paths = glob.glob(os.path.join(PATH, 'nk*.wav'))"
   ],
   "metadata": {
    "collapsed": false,
    "pycharm": {
     "name": "#%%\n"
    }
   }
  },
  {
   "cell_type": "markdown",
   "source": [
    "# Imports Dataset"
   ],
   "metadata": {
    "collapsed": false
   }
  },
  {
   "cell_type": "code",
   "execution_count": 151,
   "outputs": [],
   "source": [
    "# Here we read the wave files and store their content in lists\n",
    "naf_audios = [wav.read(path) for path in naf_paths]\n",
    "nam_audios = [wav.read(path) for path in nam_paths]"
   ],
   "metadata": {
    "collapsed": false,
    "pycharm": {
     "name": "#%%\n"
    }
   }
  },
  {
   "cell_type": "code",
   "execution_count": 152,
   "outputs": [
    {
     "data": {
      "text/plain": "[(24000, array([ -1, -26, -44, ..., -13, -12,  -6], dtype=int16)),\n (24000, array([ -1, -22, -38, ...,  -7,  -6,  -4], dtype=int16)),\n (24000, array([  0,  -4,  -7, ..., -47, -39, -20], dtype=int16)),\n (24000, array([ 0, -3,  0, ..., -1, -1,  0], dtype=int16)),\n (24000, array([  0,  -8, -20, ...,   6,   7,   4], dtype=int16)),\n (24000, array([ 0, -2, -1, ..., -9, -7, -3], dtype=int16)),\n (24000, array([  0,  10,  23, ...,  -7, -15, -12], dtype=int16)),\n (24000, array([  0, -10,  -8, ...,  -3,  -2,  -1], dtype=int16)),\n (24000, array([ 0,  1, 13, ...,  0,  4,  4], dtype=int16)),\n (24000, array([ -1, -18, -15, ..., -15, -13,  -6], dtype=int16)),\n (24000, array([ -1, -23, -47, ..., -23, -17,  -8], dtype=int16)),\n (24000, array([ 0,  6, 12, ..., -2, -1, -1], dtype=int16)),\n (24000, array([ 0,  6,  5, ..., -6, -5, -3], dtype=int16)),\n (24000, array([ -1, -13, -30, ..., -13, -11,  -6], dtype=int16)),\n (24000, array([0, 1, 4, ..., 2, 3, 2], dtype=int16)),\n (24000, array([ 1, 25, 51, ...,  4,  5,  5], dtype=int16)),\n (24000, array([  0, -10, -16, ...,  31,  43,  30], dtype=int16)),\n (24000, array([  0,   5,  25, ..., -35, -29, -26], dtype=int16)),\n (24000, array([  0,  -6, -13, ..., -29, -25, -12], dtype=int16)),\n (24000, array([  0,  -5, -10, ...,   3,  -1,   1], dtype=int16)),\n (24000, array([ -1, -20, -29, ..., -39, -39, -24], dtype=int16)),\n (24000, array([ -1, -10, -16, ...,   7,   9,   5], dtype=int16)),\n (24000, array([  0,  -7, -17, ...,   1,   7,   5], dtype=int16)),\n (24000, array([ 0,  9,  9, ...,  8,  2, -1], dtype=int16)),\n (24000, array([  0,   0,   0, ..., -39, -46, -28], dtype=int16)),\n (24000, array([  0,  -7, -10, ...,  21,  14,  11], dtype=int16)),\n (24000, array([  0,   1,  -2, ..., -57, -59, -33], dtype=int16)),\n (24000, array([ 0,  3,  7, ..., -1,  3,  4], dtype=int16)),\n (24000, array([  0,  -8, -14, ..., -30, -19, -12], dtype=int16)),\n (24000, array([  1,  14,  26, ..., -47, -41, -24], dtype=int16)),\n (24000, array([  1,  19,  33, ..., -67, -47, -53], dtype=int16)),\n (24000, array([  0,   8,  19, ..., -21, -17,   1], dtype=int16)),\n (24000, array([ -1, -17, -30, ...,   8,   4,   2], dtype=int16)),\n (24000, array([ 0,  7, -2, ...,  3,  3,  2], dtype=int16)),\n (24000, array([ 0,  0,  5, ..., -8, -5, -5], dtype=int16)),\n (24000, array([  0,   2,  -3, ..., -39, -30, -18], dtype=int16))]"
     },
     "execution_count": 152,
     "metadata": {},
     "output_type": "execute_result"
    }
   ],
   "source": [
    "nam_audios"
   ],
   "metadata": {
    "collapsed": false,
    "pycharm": {
     "name": "#%%\n"
    }
   }
  },
  {
   "cell_type": "markdown",
   "source": [
    "# Analyse DATA"
   ],
   "metadata": {
    "collapsed": false
   }
  },
  {
   "cell_type": "markdown",
   "source": [
    "# bidule à lucas"
   ],
   "metadata": {
    "collapsed": false
   }
  },
  {
   "cell_type": "markdown",
   "source": [],
   "metadata": {
    "collapsed": false
   }
  },
  {
   "cell_type": "code",
   "execution_count": 153,
   "outputs": [
    {
     "data": {
      "text/plain": "<Figure size 1080x288 with 2 Axes>",
      "image/png": "[encoded data removed]"
     },
     "metadata": {
      "needs_background": "light"
     },
     "output_type": "display_data"
    }
   ],
   "source": [
    "from sklearn import preprocessing\n",
    "\n",
    "naf_mfcc_median = np.array([np.median(mfcc(naf[1], naf[0], nfft=1024), axis=0) for naf in naf_audios])# ...\n",
    "nam_mfcc_median = np.array([np.median(mfcc(nam[1], nam[0], nfft=1024), axis=0) for nam in nam_audios])# ...\n",
    "\n",
    "# Normalize the data attributes\n",
    "\n",
    "minMaxScaler = preprocessing.MinMaxScaler()\n",
    "naf_mfcc_median= minMaxScaler.fit_transform(naf_mfcc_median)\n",
    "nam_mfcc_median= minMaxScaler.fit_transform(nam_mfcc_median)\n",
    "\n",
    "f, (ax1, ax2) = pl.subplots(1,2, sharey='all', figsize=(15,4))\n",
    "ax1.plot()\n",
    "ax1.boxplot(naf_mfcc_median)\n",
    "ax1.set_title('Natural Female')\n",
    "ax1.grid()\n",
    "ax2.boxplot(nam_mfcc_median)\n",
    "ax2.set_title('Natural Male')\n",
    "ax2.grid()"
   ],
   "metadata": {
    "collapsed": false,
    "pycharm": {
     "name": "#%%\n"
    }
   }
  },
  {
   "cell_type": "markdown",
   "source": [
    "On a trouvé que les paires de MFCC (8,9), (8,4), (9,4) pourraient être utiles pour la prédiction. Mais pour cette expérience, on peut simplement utiliser l'ensemble complet des MFCC."
   ],
   "metadata": {
    "collapsed": false
   }
  },
  {
   "cell_type": "markdown",
   "source": [
    "# MLP"
   ],
   "metadata": {
    "collapsed": false
   }
  },
  {
   "cell_type": "markdown",
   "source": [
    "## Exploring the number of epochs and hyper parameters"
   ],
   "metadata": {
    "collapsed": false
   }
  },
  {
   "cell_type": "code",
   "execution_count": 168,
   "outputs": [
    {
     "name": "stdout",
     "output_type": "stream",
     "text": [
      "[[0.66757647 0.62475498 0.25844803 0.23618057 0.36699678 0.59894678\n",
      "  0.78310106 1.         0.3939373  0.06685671 0.76743553 0.27726804\n",
      "  0.23927774]\n",
      " [0.89726932 0.26763046 0.25397242 0.51425699 0.32937631 0.55779341\n",
      "  0.18459525 0.86024492 0.99134235 0.61655316 0.16845996 0.14728967\n",
      "  0.32659668]\n",
      " [0.94239346 0.62021525 0.30415251 0.23408683 0.         0.44249946\n",
      "  1.         0.81027144 0.30490836 0.59707064 0.284874   0.47228009\n",
      "  0.49348163]\n",
      " [0.62500707 0.12595134 0.45689981 0.7242464  0.57313375 0.34588126\n",
      "  0.0211736  0.57857873 0.70451677 0.12149702 0.31477641 0.70411674\n",
      "  0.66889487]\n",
      " [1.         0.14726198 0.15680252 0.6487429  0.41017577 0.29333224\n",
      "  0.04782317 0.57348601 0.86739552 0.59257687 0.33116107 0.57063853\n",
      "  0.57468242]\n",
      " [0.80856788 0.61002901 0.12638765 0.22561027 0.58244941 0.81068243\n",
      "  0.38496066 0.06011078 0.49584129 0.87154434 0.58429994 0.\n",
      "  0.63442476]\n",
      " [0.93069214 0.1041473  0.31885126 1.         0.55762608 0.30667805\n",
      "  0.15767343 0.62863423 0.29537348 0.         0.32973005 0.94010638\n",
      "  0.64158411]\n",
      " [0.74537016 0.05970712 0.47706197 0.758128   0.60329924 0.28588448\n",
      "  0.11408905 0.39075039 0.82075646 0.21006852 0.28769316 0.62713933\n",
      "  0.71533053]\n",
      " [0.65307868 0.4329944  0.24627374 0.3042493  0.27477518 0.8161264\n",
      "  0.26616688 0.63702161 0.3071497  0.47898876 0.49331588 0.9899786\n",
      "  0.5305108 ]\n",
      " [0.89102793 0.29949603 0.08725026 0.38465177 0.17926106 0.63251098\n",
      "  0.09381273 0.73524289 0.69464083 0.68388121 0.49545672 0.41640521\n",
      "  0.2520591 ]\n",
      " [0.46738108 0.19519896 0.48276703 0.48549684 0.62948948 0.4562982\n",
      "  0.11112837 0.27225209 0.39380663 0.46231734 0.50896389 0.65230506\n",
      "  0.73054859]\n",
      " [0.50697195 0.26530058 0.31397276 0.71542398 0.75046131 0.51554996\n",
      "  0.         0.08476139 0.55855888 0.4406169  0.21498429 0.66910186\n",
      "  1.        ]\n",
      " [0.19029214 0.44016137 0.13521609 0.41123488 0.19533589 0.63675396\n",
      "  0.78350803 0.63174486 0.32231109 0.37419296 0.20042979 0.65327793\n",
      "  0.35839974]\n",
      " [0.75100075 0.41218619 0.         0.37580543 0.39331799 0.61467016\n",
      "  0.66473635 0.68139903 0.78475458 0.49879789 0.         0.56693064\n",
      "  0.        ]\n",
      " [0.72529784 0.53214919 0.06487767 0.35313923 0.09423406 0.6612217\n",
      "  0.79844607 0.79552614 0.14049949 0.54479078 0.16813026 0.86828651\n",
      "  0.369119  ]\n",
      " [0.         0.15556505 0.57995182 0.74111839 0.41319716 0.00886262\n",
      "  0.46718802 0.53884862 0.68787375 0.27655271 0.30745323 0.70603058\n",
      "  0.29169928]\n",
      " [0.46309702 0.31423487 0.26524477 0.47427069 0.43302495 0.07964294\n",
      "  0.40167167 0.55768502 1.         0.65537766 0.05391098 0.5836745\n",
      "  0.15571664]\n",
      " [0.52996292 1.         0.64754502 0.0016967  0.24139945 0.95863381\n",
      "  0.17973846 0.21291536 0.         1.         0.76851466 0.39692494\n",
      "  0.54154952]\n",
      " [0.63847223 0.0127666  0.82795779 0.87351372 0.50390681 0.\n",
      "  0.67019778 0.4957235  0.27200797 0.13498661 0.17643886 0.66750439\n",
      "  0.55432535]\n",
      " [0.56426582 0.29996531 0.45721819 0.55420472 0.56106786 0.07273318\n",
      "  0.28266384 0.35063199 0.83393058 0.71627001 0.18479598 0.53030418\n",
      "  0.46252435]\n",
      " [0.35135732 0.71259313 0.50305588 0.32783679 0.18845388 0.57042568\n",
      "  0.71097737 0.48899806 0.06528814 0.55436858 0.26181832 1.\n",
      "  0.52418308]\n",
      " [0.83014139 0.40921957 0.07144276 0.3692971  0.31255992 0.44037114\n",
      "  0.64824515 0.50952847 0.67692961 0.77544095 0.224168   0.45344207\n",
      "  0.02106699]\n",
      " [0.31679253 0.42469183 0.55204091 0.34272133 0.5479803  0.306875\n",
      "  0.37705429 0.32477112 0.33113796 0.87803405 0.44758193 0.46482861\n",
      "  0.34739901]\n",
      " [0.25662732 0.53938882 1.         0.32747161 0.51161264 0.30373625\n",
      "  0.43983841 0.26196797 0.08786191 0.62043102 0.52785902 0.81197576\n",
      "  0.66492846]\n",
      " [0.68568111 0.27010235 0.50264902 0.27938166 0.22186015 0.45042122\n",
      "  0.73968946 0.87907719 0.52265989 0.34427131 0.26283825 0.57585217\n",
      "  0.43307517]\n",
      " [0.89435481 0.0836762  0.26261159 0.27134797 0.48203518 0.53074103\n",
      "  0.28386934 0.69965794 0.89009048 0.55353482 0.31825004 0.32552935\n",
      "  0.42674189]\n",
      " [0.48651193 0.34699642 0.69019662 0.08691686 0.32291787 0.55283773\n",
      "  0.52551494 0.95045711 0.57495795 0.22308011 0.5287193  0.50665138\n",
      "  0.46469137]\n",
      " [0.5433938  0.11470896 0.39148099 0.43964604 0.84086837 0.14928097\n",
      "  0.12091009 0.55335649 0.65197251 0.60393121 0.22765515 0.60964297\n",
      "  0.56825423]\n",
      " [0.75355122 0.18967337 0.29573581 0.38309635 0.56637972 0.26503207\n",
      "  0.2400991  0.43890678 0.70989677 0.80951086 0.48952957 0.26142594\n",
      "  0.60376011]\n",
      " [0.57391302 0.47574178 0.70141915 0.         0.40822215 1.\n",
      "  0.33761847 0.46709274 0.1939428  0.46715755 1.         0.08565441\n",
      "  0.44724571]\n",
      " [0.51141647 0.         0.60755176 0.72041093 0.90279009 0.1016954\n",
      "  0.12403147 0.58133641 0.34771946 0.28041015 0.27745242 0.68236213\n",
      "  0.85220508]\n",
      " [0.69664885 0.11687148 0.40831276 0.44777366 0.69640187 0.26417429\n",
      "  0.18130321 0.41988312 0.71508228 0.74165878 0.23773608 0.62801297\n",
      "  0.37209632]\n",
      " [0.57265474 0.36618863 0.54212834 0.15538306 0.61145075 0.46307719\n",
      "  0.38461846 0.37294895 0.50156193 0.55307902 0.6282963  0.62457922\n",
      "  0.59436094]\n",
      " [0.85827264 0.26910436 0.22439004 0.19209543 0.51524592 0.41534636\n",
      "  0.3629244  0.62252692 0.58475584 0.66152327 0.5660826  0.29561122\n",
      "  0.37607457]\n",
      " [0.78423514 0.14190244 0.65148321 0.30472749 0.6911987  0.24599565\n",
      "  0.37982605 0.43303386 0.35517739 0.76397351 0.40701457 0.62087746\n",
      "  0.51826077]\n",
      " [0.61901586 0.18600159 0.49962695 0.51109221 1.         0.3434535\n",
      "  0.2630492  0.         0.38821399 0.58350176 0.03719695 0.44258115\n",
      "  0.66074854]\n",
      " [0.67986329 0.76008656 0.01325745 0.32817571 0.20886565 0.41128882\n",
      "  1.         0.39009266 0.79215402 0.51091105 0.20948733 0.98089473\n",
      "  0.34503935]\n",
      " [0.         0.48075272 0.10229731 0.49297267 0.58276245 0.42030788\n",
      "  0.48998094 0.29614095 1.         0.77084079 0.10368836 0.65294492\n",
      "  0.01488492]\n",
      " [0.89154098 1.         0.06795718 0.29798051 0.03690801 0.14624375\n",
      "  0.878447   0.6416053  0.81229137 0.45925883 0.28247352 0.64306694\n",
      "  0.5535497 ]\n",
      " [0.59344794 0.34871018 0.22101132 0.83402185 0.71364404 0.25661786\n",
      "  0.01728226 0.45383371 0.53817955 0.62592161 0.11468832 0.48221275\n",
      "  0.76229386]\n",
      " [0.85629574 0.51317997 0.11899642 0.64612973 0.62353137 0.2285769\n",
      "  0.36760615 0.16236711 0.78026782 0.78353962 0.17014362 0.95471418\n",
      "  0.46702035]\n",
      " [0.648138   0.84352556 0.41099833 0.26775168 0.32186724 0.8175774\n",
      "  0.70715006 0.23453071 0.         0.51964715 0.77223042 0.78574871\n",
      "  0.26607662]\n",
      " [0.53350206 0.31801869 0.72376663 1.         0.63157679 0.39051252\n",
      "  0.22845968 0.63764448 0.51468838 0.13759473 0.13184247 0.6694874\n",
      "  0.30167458]\n",
      " [0.83757046 0.3911199  0.15998112 0.81154638 0.66259852 0.11780221\n",
      "  0.2285501  0.11968721 0.6678237  0.58013257 0.         0.9150742\n",
      "  0.5365261 ]\n",
      " [0.29511947 0.83044346 0.6408217  0.51544528 0.         0.64523588\n",
      "  0.23098189 0.75815135 0.44972336 0.17302683 0.46125216 0.28769386\n",
      "  1.        ]\n",
      " [0.82980559 0.4870314  0.16488401 0.47779229 0.19146603 0.5160294\n",
      "  0.28676781 0.47050341 0.52243936 0.71466434 0.72016468 0.8240384\n",
      "  0.48499706]\n",
      " [0.62939538 0.58048029 0.38786842 0.56938351 0.33271192 0.90798478\n",
      "  0.16567258 0.52360181 0.37875577 0.11878728 0.62167415 0.26845858\n",
      "  0.92611802]\n",
      " [0.34481949 0.58022221 0.73178538 0.57377859 0.5906694  0.90928243\n",
      "  0.26242831 0.68060216 0.24400377 0.18972349 0.23752883 0.19972602\n",
      "  0.73478036]\n",
      " [0.6460461  0.68276918 0.         0.4708996  0.07529857 0.39315193\n",
      "  0.63453408 0.75206592 0.60740736 0.41924469 0.81593515 0.87978002\n",
      "  0.35144257]\n",
      " [0.47937409 0.47191152 0.06072934 0.54147593 0.56404467 0.36839903\n",
      "  0.28759272 0.35754178 0.84636939 0.95022009 0.99837132 0.7201605\n",
      "  0.        ]\n",
      " [0.45248295 0.66378313 0.21174538 0.53151896 0.10836845 0.\n",
      "  0.69970299 0.92169552 0.69229257 0.32916341 0.77488781 0.81119929\n",
      "  0.2580064 ]\n",
      " [0.77005724 0.30755614 0.1917934  0.65395989 0.84086416 0.58309913\n",
      "  0.07161417 0.1691462  0.62448887 0.86467054 0.28890269 0.54050657\n",
      "  0.28076037]\n",
      " [0.8381774  0.34109438 0.00634887 0.66622282 0.51384616 0.56019559\n",
      "  0.19218909 0.18375178 0.61694305 1.         0.74339789 0.79927628\n",
      "  0.20456429]\n",
      " [0.58501246 0.85546719 0.38644198 0.25776863 0.34031871 0.80990837\n",
      "  0.66026274 0.         0.35877785 0.78953646 0.89090481 0.63859715\n",
      "  0.28411014]\n",
      " [0.93154754 0.11328444 0.46143647 0.88084338 1.         0.49530806\n",
      "  0.         0.41865152 0.55353771 0.35622806 0.35842321 0.\n",
      "  0.12622632]\n",
      " [0.81960705 0.39319158 0.14418664 0.69986621 0.88714557 0.48753628\n",
      "  0.09940325 0.204748   0.41545466 0.81244361 0.48900649 0.55930346\n",
      "  0.17554997]\n",
      " [0.60036847 0.70738025 0.39095444 0.53470622 0.32118299 0.37587979\n",
      "  0.39039431 0.45186938 0.69665441 0.35748504 0.35077129 0.25749683\n",
      "  0.64271691]\n",
      " [0.6879995  0.43762379 0.04193961 0.588986   0.33738077 0.45125392\n",
      "  0.31392182 0.44669308 0.43588441 0.89032764 0.82145728 0.9673227\n",
      "  0.23533336]\n",
      " [0.72654283 0.48796561 0.06379006 0.53671204 0.81365521 0.63135315\n",
      "  0.15670705 0.24106553 0.28485837 0.73992988 0.60570668 0.64225683\n",
      "  0.431041  ]\n",
      " [0.41418694 0.53934273 0.39182155 0.50243983 0.96963977 0.92038461\n",
      "  0.06983968 0.2461317  0.36849602 0.5822032  0.66183148 0.01710829\n",
      "  0.27158821]\n",
      " [0.73382058 0.6136226  0.28610502 0.07971702 0.23685417 0.48323432\n",
      "  0.65937297 0.92875837 0.75778994 0.17364317 0.48656136 0.80182149\n",
      "  0.35719959]\n",
      " [0.62647361 0.32923063 0.12366389 0.24137792 0.55023292 0.67727777\n",
      "  0.27389347 0.48625857 0.79830722 0.94231081 0.64857521 0.72553101\n",
      "  0.08162582]\n",
      " [0.70835953 0.77501099 0.54808791 0.1948828  0.01849823 0.25221521\n",
      "  0.56226845 1.         0.87934867 0.24562595 0.50363987 0.80746604\n",
      "  0.47161222]\n",
      " [1.         0.14043256 0.2338007  0.57097795 0.93958607 0.37016205\n",
      "  0.14226956 0.4569535  0.66591814 0.69119271 0.26581715 0.46149293\n",
      "  0.65816995]\n",
      " [0.87504168 0.21186795 0.39252584 0.2919846  0.61007738 0.6079775\n",
      "  0.23227257 0.43470162 0.69646109 0.87258449 0.75045887 0.61350905\n",
      "  0.24181909]\n",
      " [0.7101046  0.69648842 0.63069689 0.         0.44466497 1.\n",
      "  0.58405526 0.1840221  0.36436427 0.57910425 0.94643061 0.63162543\n",
      "  0.19776049]\n",
      " [0.94642118 0.         0.66394372 0.83652973 0.84666025 0.45732641\n",
      "  0.23155509 0.63614332 0.59787837 0.11653683 0.15952946 0.14095467\n",
      "  0.48109958]\n",
      " [0.95946329 0.1567708  0.41027816 0.53416446 0.80121929 0.20450996\n",
      "  0.02026222 0.57635746 0.60879718 0.637356   0.53685109 0.59227924\n",
      "  0.45713008]\n",
      " [0.61742668 0.56023681 0.67143745 0.23078056 0.3487064  0.39841608\n",
      "  0.49699614 0.84892616 0.66356608 0.03928574 0.62347449 0.47719963\n",
      "  0.78480692]\n",
      " [0.64453596 0.37247044 0.44881028 0.22611052 0.29476498 0.63656924\n",
      "  0.44476265 0.62212996 0.81149996 0.35311254 1.         1.\n",
      "  0.06523522]\n",
      " [0.84514982 0.35418976 0.62036973 0.3362655  0.40011009 0.65999394\n",
      "  0.26639371 0.56263591 0.38548789 0.34322872 0.63435637 0.98670361\n",
      "  0.4550189 ]\n",
      " [0.61604601 0.28681156 1.         0.50746107 0.46198287 0.84058337\n",
      "  0.46495263 0.71142103 0.21812112 0.         0.34415162 0.37805177\n",
      "  0.64786059]]\n",
      "[[ 0.66757647  0.62475498  0.25844803 ...  0.27726804  0.23927774\n",
      "   1.        ]\n",
      " [ 0.89726932  0.26763046  0.25397242 ...  0.14728967  0.32659668\n",
      "   1.        ]\n",
      " [ 0.94239346  0.62021525  0.30415251 ...  0.47228009  0.49348163\n",
      "   1.        ]\n",
      " ...\n",
      " [ 0.64453596  0.37247044  0.44881028 ...  1.          0.06523522\n",
      "  -1.        ]\n",
      " [ 0.84514982  0.35418976  0.62036973 ...  0.98670361  0.4550189\n",
      "  -1.        ]\n",
      " [ 0.61604601  0.28681156  1.         ...  0.37805177  0.64786059\n",
      "  -1.        ]]\n",
      "[[0.67986329 0.76008656 0.01325745 0.32817571 0.20886565 0.41128882\n",
      "  1.         0.39009266 0.79215402 0.51091105 0.20948733 0.98089473\n",
      "  0.34503935]\n",
      " [0.         0.48075272 0.10229731 0.49297267 0.58276245 0.42030788\n",
      "  0.48998094 0.29614095 1.         0.77084079 0.10368836 0.65294492\n",
      "  0.01488492]\n",
      " [0.89154098 1.         0.06795718 0.29798051 0.03690801 0.14624375\n",
      "  0.878447   0.6416053  0.81229137 0.45925883 0.28247352 0.64306694\n",
      "  0.5535497 ]\n",
      " [0.59344794 0.34871018 0.22101132 0.83402185 0.71364404 0.25661786\n",
      "  0.01728226 0.45383371 0.53817955 0.62592161 0.11468832 0.48221275\n",
      "  0.76229386]\n",
      " [0.85629574 0.51317997 0.11899642 0.64612973 0.62353137 0.2285769\n",
      "  0.36760615 0.16236711 0.78026782 0.78353962 0.17014362 0.95471418\n",
      "  0.46702035]\n",
      " [0.648138   0.84352556 0.41099833 0.26775168 0.32186724 0.8175774\n",
      "  0.70715006 0.23453071 0.         0.51964715 0.77223042 0.78574871\n",
      "  0.26607662]\n",
      " [0.53350206 0.31801869 0.72376663 1.         0.63157679 0.39051252\n",
      "  0.22845968 0.63764448 0.51468838 0.13759473 0.13184247 0.6694874\n",
      "  0.30167458]\n",
      " [0.83757046 0.3911199  0.15998112 0.81154638 0.66259852 0.11780221\n",
      "  0.2285501  0.11968721 0.6678237  0.58013257 0.         0.9150742\n",
      "  0.5365261 ]\n",
      " [0.29511947 0.83044346 0.6408217  0.51544528 0.         0.64523588\n",
      "  0.23098189 0.75815135 0.44972336 0.17302683 0.46125216 0.28769386\n",
      "  1.        ]\n",
      " [0.82980559 0.4870314  0.16488401 0.47779229 0.19146603 0.5160294\n",
      "  0.28676781 0.47050341 0.52243936 0.71466434 0.72016468 0.8240384\n",
      "  0.48499706]\n",
      " [0.62939538 0.58048029 0.38786842 0.56938351 0.33271192 0.90798478\n",
      "  0.16567258 0.52360181 0.37875577 0.11878728 0.62167415 0.26845858\n",
      "  0.92611802]\n",
      " [0.34481949 0.58022221 0.73178538 0.57377859 0.5906694  0.90928243\n",
      "  0.26242831 0.68060216 0.24400377 0.18972349 0.23752883 0.19972602\n",
      "  0.73478036]\n",
      " [0.6460461  0.68276918 0.         0.4708996  0.07529857 0.39315193\n",
      "  0.63453408 0.75206592 0.60740736 0.41924469 0.81593515 0.87978002\n",
      "  0.35144257]\n",
      " [0.47937409 0.47191152 0.06072934 0.54147593 0.56404467 0.36839903\n",
      "  0.28759272 0.35754178 0.84636939 0.95022009 0.99837132 0.7201605\n",
      "  0.        ]\n",
      " [0.45248295 0.66378313 0.21174538 0.53151896 0.10836845 0.\n",
      "  0.69970299 0.92169552 0.69229257 0.32916341 0.77488781 0.81119929\n",
      "  0.2580064 ]\n",
      " [0.77005724 0.30755614 0.1917934  0.65395989 0.84086416 0.58309913\n",
      "  0.07161417 0.1691462  0.62448887 0.86467054 0.28890269 0.54050657\n",
      "  0.28076037]\n",
      " [0.8381774  0.34109438 0.00634887 0.66622282 0.51384616 0.56019559\n",
      "  0.19218909 0.18375178 0.61694305 1.         0.74339789 0.79927628\n",
      "  0.20456429]\n",
      " [0.58501246 0.85546719 0.38644198 0.25776863 0.34031871 0.80990837\n",
      "  0.66026274 0.         0.35877785 0.78953646 0.89090481 0.63859715\n",
      "  0.28411014]\n",
      " [0.93154754 0.11328444 0.46143647 0.88084338 1.         0.49530806\n",
      "  0.         0.41865152 0.55353771 0.35622806 0.35842321 0.\n",
      "  0.12622632]\n",
      " [0.81960705 0.39319158 0.14418664 0.69986621 0.88714557 0.48753628\n",
      "  0.09940325 0.204748   0.41545466 0.81244361 0.48900649 0.55930346\n",
      "  0.17554997]\n",
      " [0.60036847 0.70738025 0.39095444 0.53470622 0.32118299 0.37587979\n",
      "  0.39039431 0.45186938 0.69665441 0.35748504 0.35077129 0.25749683\n",
      "  0.64271691]\n",
      " [0.6879995  0.43762379 0.04193961 0.588986   0.33738077 0.45125392\n",
      "  0.31392182 0.44669308 0.43588441 0.89032764 0.82145728 0.9673227\n",
      "  0.23533336]\n",
      " [0.72654283 0.48796561 0.06379006 0.53671204 0.81365521 0.63135315\n",
      "  0.15670705 0.24106553 0.28485837 0.73992988 0.60570668 0.64225683\n",
      "  0.431041  ]\n",
      " [0.41418694 0.53934273 0.39182155 0.50243983 0.96963977 0.92038461\n",
      "  0.06983968 0.2461317  0.36849602 0.5822032  0.66183148 0.01710829\n",
      "  0.27158821]\n",
      " [0.73382058 0.6136226  0.28610502 0.07971702 0.23685417 0.48323432\n",
      "  0.65937297 0.92875837 0.75778994 0.17364317 0.48656136 0.80182149\n",
      "  0.35719959]\n",
      " [0.62647361 0.32923063 0.12366389 0.24137792 0.55023292 0.67727777\n",
      "  0.27389347 0.48625857 0.79830722 0.94231081 0.64857521 0.72553101\n",
      "  0.08162582]\n",
      " [0.70835953 0.77501099 0.54808791 0.1948828  0.01849823 0.25221521\n",
      "  0.56226845 1.         0.87934867 0.24562595 0.50363987 0.80746604\n",
      "  0.47161222]\n",
      " [1.         0.14043256 0.2338007  0.57097795 0.93958607 0.37016205\n",
      "  0.14226956 0.4569535  0.66591814 0.69119271 0.26581715 0.46149293\n",
      "  0.65816995]\n",
      " [0.87504168 0.21186795 0.39252584 0.2919846  0.61007738 0.6079775\n",
      "  0.23227257 0.43470162 0.69646109 0.87258449 0.75045887 0.61350905\n",
      "  0.24181909]\n",
      " [0.7101046  0.69648842 0.63069689 0.         0.44466497 1.\n",
      "  0.58405526 0.1840221  0.36436427 0.57910425 0.94643061 0.63162543\n",
      "  0.19776049]\n",
      " [0.94642118 0.         0.66394372 0.83652973 0.84666025 0.45732641\n",
      "  0.23155509 0.63614332 0.59787837 0.11653683 0.15952946 0.14095467\n",
      "  0.48109958]\n",
      " [0.95946329 0.1567708  0.41027816 0.53416446 0.80121929 0.20450996\n",
      "  0.02026222 0.57635746 0.60879718 0.637356   0.53685109 0.59227924\n",
      "  0.45713008]\n",
      " [0.61742668 0.56023681 0.67143745 0.23078056 0.3487064  0.39841608\n",
      "  0.49699614 0.84892616 0.66356608 0.03928574 0.62347449 0.47719963\n",
      "  0.78480692]\n",
      " [0.64453596 0.37247044 0.44881028 0.22611052 0.29476498 0.63656924\n",
      "  0.44476265 0.62212996 0.81149996 0.35311254 1.         1.\n",
      "  0.06523522]\n",
      " [0.84514982 0.35418976 0.62036973 0.3362655  0.40011009 0.65999394\n",
      "  0.26639371 0.56263591 0.38548789 0.34322872 0.63435637 0.98670361\n",
      "  0.4550189 ]\n",
      " [0.61604601 0.28681156 1.         0.50746107 0.46198287 0.84058337\n",
      "  0.46495263 0.71142103 0.21812112 0.         0.34415162 0.37805177\n",
      "  0.64786059]]\n"
     ]
    }
   ],
   "source": [
    "import mlp_backprop_momentum as mlp\n",
    "import k_fold_cross_validation as cv\n",
    "\n",
    "mfccs = np.concatenate((\n",
    "    naf_mfcc_median,\n",
    "    nam_mfcc_median\n",
    "))\n",
    "\n",
    "# We use -1 and 1 for classes because we use the tanh function\n",
    "classes = np.concatenate(\n",
    "    (\n",
    "        np.append(naf_mfcc_median, [[1]] * len(naf_mfcc_median), axis=1),\n",
    "        np.append(nam_mfcc_median, [[-1]] * len(nam_mfcc_median), axis=1)\n",
    "    )\n",
    ")\n",
    "print(mfccs)\n",
    "print(classes)\n",
    "# Using pandas for format\n",
    "#df_mfcc = pd.DataFrame(data=mfccs)\n",
    "\n",
    "#df_mfcc['class'] = classes.tolist()\n",
    "df_mfcc = np.append(mfccs, classes, axis=1)\n",
    "# Hyper parameters...\n",
    "N_INITS = 10\n",
    "EPOCHS = 40\n",
    "N_NEURONS = [1, 4, 8, 10]\n",
    "LEARNING_RATE = 0.001\n",
    "MOMENTUM = 0.8\n",
    "\n",
    "print(nam_mfcc_median)\n",
    "#print(df_mfcc.to_numpy())"
   ],
   "metadata": {
    "collapsed": false,
    "pycharm": {
     "name": "#%%\n"
    }
   }
  },
  {
   "cell_type": "code",
   "execution_count": 155,
   "outputs": [],
   "source": [
    "#df_mfcc = pd.DataFrame(data=df_mfcc)"
   ],
   "metadata": {
    "collapsed": false,
    "pycharm": {
     "name": "#%%\n"
    }
   }
  },
  {
   "cell_type": "code",
   "execution_count": 169,
   "outputs": [
    {
     "name": "stdout",
     "output_type": "stream",
     "text": [
      "Testing 1 neurons...\n",
      "Testing 4 neurons...\n",
      "Testing 8 neurons...\n",
      "Testing 10 neurons...\n"
     ]
    }
   ],
   "source": [
    "MSE = np.zeros((len(N_NEURONS), N_INITS, EPOCHS))\n",
    "\n",
    "for i_h, h in enumerate(N_NEURONS):                                     # looping over the number of hidden neurons\n",
    "    print('Testing', h, 'neurons...')\n",
    "    nn = mlp.MLP([13,h,1], 'tanh')\n",
    "    for i in np.arange(N_INITS):                                        # looping over the initializations\n",
    "        nn.init_weights()\n",
    "\n",
    "#        MSE[i_h, i, :] = nn.fit((df_mfcc.loc[:, df_mfcc.columns != 'class'], df_mfcc['class']),\n",
    "        MSE[i_h, i, :] = nn.fit((df_mfcc[:,0:13], df_mfcc[:,13:14]),\n",
    "                                learning_rate=LEARNING_RATE,\n",
    "                                momentum=MOMENTUM,\n",
    "                                epochs=EPOCHS)"
   ],
   "metadata": {
    "collapsed": false,
    "pycharm": {
     "name": "#%%\n"
    }
   }
  },
  {
   "cell_type": "code",
   "execution_count": 171,
   "outputs": [
    {
     "data": {
      "text/plain": "<Figure size 1080x288 with 4 Axes>",
      "image/png": "[encoded data removed]"
     },
     "metadata": {
      "needs_background": "light"
     },
     "output_type": "display_data"
    }
   ],
   "source": [
    "pl.figure(figsize=(15,4))\n",
    "p_count = 0\n",
    "for n in np.arange(MSE.shape[0]):\n",
    "    pl.subplot(1, MSE.shape[0], n+1)\n",
    "    for i in np.arange(MSE.shape[1]):\n",
    "        pl.plot(MSE[n,i,:], c='b')\n",
    "    pl.ylim(0,1)\n",
    "    pl.xlabel('Epochs')\n",
    "    pl.ylabel('MSE')\n",
    "    pl.title(str(N_NEURONS[n]) + ' neurons')\n",
    "    pl.grid()\n",
    "pl.tight_layout()"
   ],
   "metadata": {
    "collapsed": false,
    "pycharm": {
     "name": "#%%\n"
    }
   }
  },
  {
   "cell_type": "markdown",
   "source": [
    "On peut voir que l'erreur ne diminue pas de manière significative après ~40 Epochs.\n",
    "Un learning rate de 0.001 et un momentum de 0.5 donne des résultats qui semblent acceptables. Nous les utiliserons comme base.\n",
    "\n",
    "## Exploring the number of hidden neurons\n",
    "Knowing that there are no significant improvements after 40 iterations, we can now further explore how the complexity of the model (number of hidden neurons) is linked to the generalization performance (test error). The following snippet allows you to explore both the number of epochs and the number of hidden neurons without restarting the training.\n"
   ],
   "metadata": {
    "collapsed": false
   }
  },
  {
   "cell_type": "code",
   "execution_count": 175,
   "outputs": [],
   "source": [
    "K = 5\n",
    "N_TESTS = 10\n",
    "\n",
    "N_INITS = 10\n",
    "EPOCHS = 40\n",
    "N_NEURONS = [1, 4, 8, 10]\n",
    "LEARNING_RATE = 0.01\n",
    "MOMENTUM = 0.5"
   ],
   "metadata": {
    "collapsed": false,
    "pycharm": {
     "name": "#%%\n"
    }
   }
  },
  {
   "cell_type": "code",
   "execution_count": 176,
   "outputs": [
    {
     "name": "stdout",
     "output_type": "stream",
     "text": [
      "Testing 1 neurons...\n",
      "Testing 4 neurons...\n",
      "Testing 8 neurons...\n",
      "Testing 10 neurons...\n"
     ]
    }
   ],
   "source": [
    "MSE_train = np.zeros((len(N_NEURONS), EPOCHS, N_TESTS))\n",
    "MSE_test = np.zeros((len(N_NEURONS), EPOCHS, N_TESTS))\n",
    "\n",
    "for i_h, h in enumerate(N_NEURONS):                                     # looping the number of hidden neurons\n",
    "    print('Testing', h, 'neurons...')\n",
    "    nn = mlp.MLP([13,h,1], 'tanh')\n",
    "    for i in np.arange(N_TESTS):                                        # looping the tests\n",
    "        nn.init_weights()                                               # the network has to be reinitialized before each test\n",
    "        temp1, temp2 = cv.k_fold_cross_validation_per_epoch(nn,         # notice that we do not use cv.k_fold_cross_validation\n",
    "                                                            df_mfcc,    # but cv.k_fold_cross_validation_per_epoch which\n",
    "                                                            k=K,        # returns a value of error per each epoch\n",
    "                                                            learning_rate=LEARNING_RATE,\n",
    "                                                            momentum=MOMENTUM,\n",
    "                                                            epochs=EPOCHS)\n",
    "        # temp1 and temp2 are the training and test error. One value per epoch\n",
    "        MSE_train[i_h, :, i] = temp1\n",
    "        MSE_test[i_h, :, i] = temp2"
   ],
   "metadata": {
    "collapsed": false,
    "pycharm": {
     "name": "#%%\n"
    }
   }
  },
  {
   "cell_type": "code",
   "execution_count": 177,
   "outputs": [
    {
     "data": {
      "text/plain": "<Figure size 864x432 with 4 Axes>",
      "image/png": "[encoded data removed]"
     },
     "metadata": {
      "needs_background": "light"
     },
     "output_type": "display_data"
    }
   ],
   "source": [
    "MSE_train_mean = np.mean(MSE_train, axis=2)\n",
    "MSE_test_mean = np.mean(MSE_test, axis=2)\n",
    "MSE_train_sd = np.std(MSE_train, axis=2)\n",
    "MSE_test_sd = np.std(MSE_test, axis=2)\n",
    "\n",
    "v_min = min(np.min(MSE_train_mean), np.min(MSE_test_mean))\n",
    "v_max = max(np.max(MSE_train_mean), np.max(MSE_test_mean))\n",
    "\n",
    "n_rows = int(np.ceil(len(N_NEURONS)/3.0))\n",
    "pl.figure(figsize=(12,3*n_rows))\n",
    "for i_n, n in enumerate(N_NEURONS):\n",
    "    pl.subplot(n_rows, min(3, len(N_NEURONS)), i_n+1)\n",
    "    pl.fill_between(np.arange(EPOCHS), MSE_train_mean[i_n,:], MSE_train_mean[i_n,:]+MSE_train_sd[i_n,:], facecolor='blue', alpha=0.5, label='Train')\n",
    "    pl.fill_between(np.arange(EPOCHS), MSE_train_mean[i_n,:], MSE_train_mean[i_n,:]-MSE_train_sd[i_n,:], facecolor='blue', alpha=0.5)\n",
    "    pl.fill_between(np.arange(EPOCHS), MSE_test_mean[i_n,:], MSE_test_mean[i_n,:]+MSE_test_sd[i_n,:], facecolor='red', alpha=0.5, label='Test')\n",
    "    pl.fill_between(np.arange(EPOCHS), MSE_test_mean[i_n,:], MSE_test_mean[i_n,:]-MSE_test_sd[i_n,:], facecolor='red', alpha=0.5)\n",
    "    pl.ylim(0.95*v_min,0.5*v_max)\n",
    "    pl.ylabel('MSE')\n",
    "    pl.xlabel('Number of epochs')\n",
    "    pl.title(str(K)+'-fold CV with '+str(n)+' hidden neurons')\n",
    "    pl.legend()\n",
    "    pl.grid()\n",
    "pl.tight_layout()"
   ],
   "metadata": {
    "collapsed": false,
    "pycharm": {
     "name": "#%%\n"
    }
   }
  },
  {
   "cell_type": "code",
   "execution_count": 74,
   "outputs": [
    {
     "data": {
      "text/plain": "<Figure size 1080x576 with 4 Axes>",
      "image/png": "[encoded data removed]"
     },
     "metadata": {
      "needs_background": "light"
     },
     "output_type": "display_data"
    }
   ],
   "source": [
    "pl.figure(figsize=(15,8))\n",
    "pl.subplot(2,1,1)\n",
    "pl.imshow(MSE_train_mean, vmin=np.min(MSE_train_mean), vmax=np.percentile(MSE_train_mean, 90), aspect=3, interpolation='nearest')\n",
    "pl.yticks(np.arange(len(N_NEURONS)), N_NEURONS)\n",
    "pl.xlabel('Epochs')\n",
    "pl.ylabel('Number of hidden Neurons')\n",
    "pl.title('Training')\n",
    "pl.colorbar()\n",
    "pl.subplot(2,1,2)\n",
    "pl.imshow(MSE_test_mean, vmin=np.min(MSE_test_mean), vmax=np.percentile(MSE_test_mean, 90), aspect=3, interpolation='nearest')\n",
    "pl.yticks(np.arange(len(N_NEURONS)), N_NEURONS)\n",
    "pl.xlabel('Epochs')\n",
    "pl.ylabel('Number of hidden Neurons')\n",
    "pl.title('Test')\n",
    "pl.colorbar()\n",
    "pl.tight_layout()"
   ],
   "metadata": {
    "collapsed": false,
    "pycharm": {
     "name": "#%%\n"
    }
   }
  },
  {
   "cell_type": "markdown",
   "source": [],
   "metadata": {
    "collapsed": false
   }
  },
  {
   "cell_type": "markdown",
   "source": [
    "Avec ces représentations nous pouvons voir qu'un nombre de neurones dans la couche cachée supérieur à 15 réduit les performances de notre modèle sur le set de test. A priori, cela signifie qu'il perd en capacité de généralisation.\n",
    "\n",
    "## Final model\n",
    "\n",
    "Notre modèle final aura donc 15 neurones, 0.001 de learning rate, un momentum de 0.5 et 80 epochs"
   ],
   "metadata": {
    "collapsed": false
   }
  },
  {
   "cell_type": "code",
   "execution_count": 75,
   "outputs": [],
   "source": [
    "nn = mlp.MLP([13,15,1], 'tanh')"
   ],
   "metadata": {
    "collapsed": false,
    "pycharm": {
     "name": "#%%\n"
    }
   }
  },
  {
   "cell_type": "code",
   "execution_count": 76,
   "outputs": [],
   "source": [
    "def k_fold_cross_validation_without_matrix(mlp, dataset, k=5, learning_rate=0.01, momentum=0.7, epochs=100, threshold=None):\n",
    "    MSE_train_mean = 0.0\n",
    "    MSE_test_mean = 0.0\n",
    "\n",
    "    parts = cv.split_dataset(dataset, k)\n",
    "    target_test = []\n",
    "    output_test = []\n",
    "\n",
    "    for k_i in np.arange(k):\n",
    "        mlp.init_weights()\n",
    "\n",
    "        training_parts = set(np.arange(k))\n",
    "        training_parts.remove(k_i)\n",
    "        dataset_train = np.concatenate([parts[i] for i in list(training_parts)])\n",
    "        dataset_test = parts[k_i]\n",
    "\n",
    "        input_data = dataset_train[:,0:mlp.n_inputs]\n",
    "        output_data = dataset_train[:,mlp.n_inputs:(mlp.n_inputs+mlp.n_outputs)]\n",
    "        input_data_test = dataset_test[:,0:mlp.n_inputs]\n",
    "        output_data_test = dataset_test[:,mlp.n_inputs:(mlp.n_inputs+mlp.n_outputs)]\n",
    "\n",
    "        mlp.fit((input_data, output_data),\n",
    "                learning_rate=learning_rate, momentum=momentum, epochs=epochs)\n",
    "        MSE_train, _ = mlp.compute_MSE((input_data, output_data))\n",
    "        MSE_train_mean += MSE_train\n",
    "\n",
    "        MSE_test, temp_out = mlp.compute_MSE((input_data_test, output_data_test))\n",
    "        MSE_test_mean += MSE_test\n",
    "        output_test.append(temp_out)\n",
    "        target_test.append(output_data_test)\n",
    "\n",
    "    target_test = np.concatenate(target_test, axis=0)\n",
    "    output_test = np.concatenate(output_test, axis=0)\n",
    "\n",
    "    if threshold is None:\n",
    "        return (MSE_train_mean / k, MSE_test_mean / k)\n",
    "    else:\n",
    "        return (MSE_train_mean / k, MSE_test_mean / k, target_test, output_test)"
   ],
   "metadata": {
    "collapsed": false,
    "pycharm": {
     "name": "#%%\n"
    }
   }
  },
  {
   "cell_type": "code",
   "execution_count": 77,
   "outputs": [
    {
     "name": "stdout",
     "output_type": "stream",
     "text": [
      ".........."
     ]
    }
   ],
   "source": [
    "N_SPLITS = 10\n",
    "\n",
    "MSE_train = np.zeros(N_SPLITS)\n",
    "MSE_test = np.zeros(N_SPLITS)\n",
    "\n",
    "targets = []\n",
    "outputs = []\n",
    "\n",
    "for d in np.arange(N_SPLITS):\n",
    "    sys.stdout.write('.')\n",
    "    temp1, temp2, target, output = k_fold_cross_validation_without_matrix(nn,\n",
    "                                                              df_mfcc.to_numpy(),\n",
    "                                                              k=K,\n",
    "                                                              learning_rate=LEARNING_RATE,\n",
    "                                                              momentum=MOMENTUM,\n",
    "                                                              epochs=80,\n",
    "                                                              threshold=0.0)\n",
    "    MSE_train[d] = temp1\n",
    "    MSE_test[d] = temp2\n",
    "    targets.append(target)\n",
    "    outputs.append(output)\n",
    "\n",
    "targets = np.concatenate(targets, axis=0)\n",
    "outputs = np.concatenate(outputs, axis=0)"
   ],
   "metadata": {
    "collapsed": false,
    "pycharm": {
     "name": "#%%\n"
    }
   }
  },
  {
   "cell_type": "code",
   "execution_count": 78,
   "outputs": [],
   "source": [
    "conf_mat = cv.compute_confusion_matrix(targets, outputs, 0.0)\n",
    "\n",
    "y_pred = [-1 if y[0] < 0.0 else 1 for y in outputs.tolist()]\n",
    "y_true = [-1 if y[0] < 0.0 else 1 for y in targets.tolist()]"
   ],
   "metadata": {
    "collapsed": false,
    "pycharm": {
     "name": "#%%\n"
    }
   }
  },
  {
   "cell_type": "code",
   "execution_count": 78,
   "outputs": [],
   "source": [],
   "metadata": {
    "collapsed": false,
    "pycharm": {
     "name": "#%%\n"
    }
   }
  },
  {
   "cell_type": "code",
   "execution_count": 79,
   "outputs": [
    {
     "name": "stdout",
     "output_type": "stream",
     "text": [
      "MSE training:  [0.55711905 0.51943109 0.53327731 0.55774153 0.5468398  0.55158763\n",
      " 0.53822344 0.55298543 0.54453526 0.56601468]\n",
      "MSE test:  [0.79381118 0.80849134 0.79582055 0.87512192 0.80951221 0.74379315\n",
      " 0.74185846 0.78517285 0.84644181 0.90521981]\n",
      "Confusion matrix:\n",
      "[[250. 110.]\n",
      " [118. 242.]]\n"
     ]
    }
   ],
   "source": [
    "print('MSE training: ', MSE_train)\n",
    "print('MSE test: ', MSE_test)\n",
    "print('Confusion matrix:')\n",
    "print(conf_mat)"
   ],
   "metadata": {
    "collapsed": false,
    "pycharm": {
     "name": "#%%\n"
    }
   }
  },
  {
   "cell_type": "markdown",
   "source": [
    "Calcul des performances..."
   ],
   "metadata": {
    "collapsed": false
   }
  },
  {
   "cell_type": "code",
   "execution_count": 80,
   "outputs": [
    {
     "name": "stdout",
     "output_type": "stream",
     "text": [
      "Accuracy:  0.6833333333333333\n",
      "F1-Score:  0.6868131868131868\n",
      "Recall 0.6944444444444444\n"
     ]
    }
   ],
   "source": [
    "import sklearn.metrics as metrics\n",
    "\n",
    "# Rows are the actual class and columns are the predicted class\n",
    "print(\"Accuracy: \", metrics.accuracy_score(y_true, y_pred))\n",
    "print(\"F1-Score: \", metrics.f1_score(y_true, y_pred))\n",
    "print(\"Recall\", metrics.recall_score(y_true, y_pred))"
   ],
   "metadata": {
    "collapsed": false,
    "pycharm": {
     "name": "#%%\n"
    }
   }
  }
 ],
 "metadata": {
  "kernelspec": {
   "display_name": "Python 3",
   "language": "python",
   "name": "python3"
  },
  "language_info": {
   "codemirror_mode": {
    "name": "ipython",
    "version": 2
   },
   "file_extension": ".py",
   "mimetype": "text/x-python",
   "name": "python",
   "nbconvert_exporter": "python",
   "pygments_lexer": "ipython2",
   "version": "2.7.6"
  }
 },
 "nbformat": 4,
 "nbformat_minor": 0
}